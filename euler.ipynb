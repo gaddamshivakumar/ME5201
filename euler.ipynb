{
    "cells": [
        {
            "cell_type": "markdown",
            "metadata": {},
            "source": [
                "# Euler Method\n",
                "$$\n",
                "\\frac{dy}{dx} = f(x,y)\n",
                "$$"
            ]
        },
        {
            "cell_type": "code",
            "execution_count": 132,
            "metadata": {},
            "outputs": [],
            "source": [
                "import math\n",
                "import numpy as np\n",
                "import matplotlib.pyplot as plt\n",
                "import pandas as pd\n",
                "plt.rcParams['figure.figsize']=(10,10)\n",
                "plt.rcParams.update({'font.size': 15})"
            ]
        },
        {
            "cell_type": "markdown",
            "metadata": {},
            "source": [
                "### Problem: 1\n",
                "$$\n",
                "\\frac{dy}{dx}=\\frac{-x}{y}, \\quad x^2+y^2=25\n",
                "$$"
            ]
        },
        {
            "cell_type": "code",
            "execution_count": 133,
            "metadata": {},
            "outputs": [],
            "source": [
                "# x0, y0 = 0, 5\n",
                "# step = np.array([5/2, 5/4, 5/8, 5/16, 5/32])\n",
                "# xfinal = 5/2\n",
                "# def f(x, y): return -x/y\n",
                "# def f_exact(x): return math.sqrt(5**2-x**2)"
            ]
        },
        {
            "cell_type": "markdown",
            "metadata": {},
            "source": [
                "### Problem: 2\n",
                "$$\n",
                "\\frac{dy}{dx}=-y,\\quad y = e^{-x}\n",
                "$$"
            ]
        },
        {
            "cell_type": "code",
            "execution_count": 134,
            "metadata": {},
            "outputs": [],
            "source": [
                "# x0, y0 = 0, 1\n",
                "# step = np.array([5/8, 5/16, 5/32, 5/64, 5/128, 5/256])\n",
                "# xfinal = 10\n",
                "# def f(x, y): return -y\n",
                "# def f_exact(x): return math.exp(-x)"
            ]
        },
        {
            "cell_type": "markdown",
            "metadata": {},
            "source": [
                "### Problem: 3\n",
                "$$\n",
                "\\frac{dy}{dx}=e^{-x}-2y,\\quad y = e^{-x} \\left(1-\\frac{e^{-x}}{4}\\right)\n",
                "$$"
            ]
        },
        {
            "cell_type": "code",
            "execution_count": 135,
            "metadata": {},
            "outputs": [],
            "source": [
                "x0, y0 = 0, 3/4\n",
                "step = np.array([0.2, 0.1, 0.05, 0.025])\n",
                "xfinal = 0.4\n",
                "def f(x, y): return math.exp(-x)-2*y\n",
                "def f_exact(x): return math.exp(-x)*(1-(math.exp(-x)/4))"
            ]
        },
        {
            "cell_type": "markdown",
            "metadata": {},
            "source": [
                "## Solution"
            ]
        },
        {
            "cell_type": "code",
            "execution_count": 136,
            "metadata": {},
            "outputs": [
                {
                    "name": "stdout",
                    "output_type": "stream",
                    "text": [
                        "@ step size 'h'= 0.200000\n",
                        "     x   y_euler   y_exact     error\n",
                        "0  0.0  0.750000  0.750000  0.000000\n",
                        "1  0.2  0.650000  0.651151  0.001151\n",
                        "2  0.4  0.553746  0.557988  0.004242\n",
                        " \n",
                        "@ step size 'h'= 0.100000\n",
                        "     x   y_euler   y_exact     error\n",
                        "0  0.0  0.750000  0.750000  0.000000\n",
                        "1  0.1  0.700000  0.700155  0.000155\n",
                        "2  0.2  0.650484  0.651151  0.000667\n",
                        "3  0.3  0.602260  0.603615  0.001355\n",
                        "4  0.4  0.555890  0.557988  0.002098\n",
                        " \n",
                        "@ step size 'h'= 0.050000\n",
                        "      x   y_euler   y_exact     error\n",
                        "0  0.00  0.750000  0.750000  0.000000\n",
                        "1  0.05  0.725000  0.725020  0.000020\n",
                        "2  0.10  0.700061  0.700155  0.000093\n",
                        "3  0.15  0.675297  0.675503  0.000206\n",
                        "4  0.20  0.650803  0.651151  0.000348\n",
                        "5  0.25  0.626659  0.627168  0.000509\n",
                        "6  0.30  0.602933  0.603615  0.000682\n",
                        "7  0.35  0.579681  0.580542  0.000861\n",
                        "8  0.40  0.556947  0.557988  0.001041\n",
                        " \n",
                        "@ step size 'h'= 0.025000\n",
                        "        x   y_euler   y_exact     error\n",
                        "0   0.000  0.750000  0.750000  0.000000\n",
                        "1   0.025  0.737500  0.737503  0.000003\n",
                        "2   0.050  0.725008  0.725020  0.000012\n",
                        "3   0.075  0.712538  0.712566  0.000028\n",
                        "4   0.100  0.700105  0.700155  0.000050\n",
                        "5   0.125  0.687720  0.687797  0.000076\n",
                        "6   0.150  0.675397  0.675503  0.000107\n",
                        "7   0.175  0.663145  0.663285  0.000140\n",
                        "8   0.200  0.650974  0.651151  0.000177\n",
                        "9   0.225  0.638893  0.639109  0.000216\n",
                        "10  0.250  0.626912  0.627168  0.000256\n",
                        "11  0.275  0.615036  0.615335  0.000299\n",
                        "12  0.300  0.603274  0.603615  0.000342\n",
                        "13  0.325  0.591630  0.592016  0.000385\n",
                        "14  0.350  0.580112  0.580542  0.000430\n",
                        "15  0.375  0.568724  0.569198  0.000474\n",
                        "16  0.400  0.557470  0.557988  0.000518\n",
                        " \n"
                    ]
                },
                {
                    "data": {
                        "image/png": "[encoded data removed]",
                        "text/plain": [
                            "<Figure size 720x720 with 1 Axes>"
                        ]
                    },
                    "metadata": {
                        "needs_background": "light"
                    },
                    "output_type": "display_data"
                }
            ],
            "source": [
                "error_p = np.array([])\n",
                "for h in step:\n",
                "    x = np.array([x0])\n",
                "    y = np.array([y0])\n",
                "    y_exact = np.array([y0])\n",
                "    error = np.array([0])\n",
                "    xi = h\n",
                "    while round(xi,9) <= xfinal:\n",
                "        y = np.append(y, y[-1] + f(x[-1], y[-1])*h)\n",
                "        x = np.append(x, xi)\n",
                "        y_exact = np.append(y_exact, f_exact(xi))\n",
                "        error = np.append(error, abs(y[-1]-f_exact(xi)))\n",
                "        if round(xi,9) == xfinal:\n",
                "            error_p = np.append(error_p, abs(y[-1]-f_exact(xi)))\n",
                "        xi = xi+h\n",
                "    points = {'x': x, 'y_euler': y, 'y_exact': y_exact, 'error': error}\n",
                "    points = pd.DataFrame(points)\n",
                "    print(\"@ step size 'h'= %f\" % (h))\n",
                "    print(points)\n",
                "    print(' ')\n",
                "    plt.plot(x, y, '*-')\n",
                "x = np.linspace(x0, xfinal, 100)\n",
                "f_exact_v = np.vectorize(f_exact)\n",
                "y = f_exact_v(x)\n",
                "plt.plot(x, y, 'b', linewidth=3)\n",
                "plt.xlim(np.min(x), np.max(x))\n",
                "plt.ylim(np.min(y), np.max(y))\n",
                "plt.title('Solution')\n",
                "plt.xlabel('X-axis')\n",
                "plt.ylabel('Y-axis')\n",
                "ax = plt.gca()\n",
                "ax.set_aspect('equal')"
            ]
        },
        {
            "cell_type": "markdown",
            "metadata": {},
            "source": [
                "## Global Convergence (or) Global Error"
            ]
        },
        {
            "cell_type": "code",
            "execution_count": 137,
            "metadata": {},
            "outputs": [
                {
                    "name": "stdout",
                    "output_type": "stream",
                    "text": [
                        "    step   error_p     slope  GC Order\n",
                        "0  0.200  0.004242      None      None\n",
                        "1  0.100  0.002098  0.021437  1.015662\n",
                        "2  0.050  0.001041  0.021146  1.011484\n",
                        "3  0.025  0.000518  0.020903  1.006254\n"
                    ]
                },
                {
                    "data": {
                        "image/png": "[encoded data removed]",
                        "text/plain": [
                            "<Figure size 720x720 with 1 Axes>"
                        ]
                    },
                    "metadata": {
                        "needs_background": "light"
                    },
                    "output_type": "display_data"
                }
            ],
            "source": [
                "logstep = np.log(step)\n",
                "logerror = np.log(error_p)\n",
                "slope = np.array([None])\n",
                "logslope = np.array([None])\n",
                "# print(error_p)\n",
                "for i in range(len(step)-1):\n",
                "    slope = np.append(slope, ((error_p[i+1]-error_p[i])/(step[i+1]-step[i])))\n",
                "    logslope = np.append(logslope, ((logerror[i+1]-logerror[i])/(logstep[i+1]-logstep[i])))\n",
                "convergence = pd.DataFrame({'step': step, 'error_p': error_p, 'slope': slope, 'GC Order': logslope})\n",
                "print(convergence)\n",
                "plt.plot(step, error_p, '*-')\n",
                "plt.plot(np.log(step), np.log(error_p), '*-')\n",
                "plt.title('Global Convergence')\n",
                "plt.xlabel('log(h)')\n",
                "plt.ylabel('log(error)')\n",
                "ax = plt.gca()\n",
                "ax.set_aspect('equal')"
            ]
        },
        {
            "cell_type": "markdown",
            "metadata": {},
            "source": [
                "## Local Convergence (or) Truncation Error"
            ]
        }
    ],
    "metadata": {
        "kernelspec": {
            "display_name": "Python 3.10.5 64-bit",
            "language": "python",
            "name": "python3"
        },
        "language_info": {
            "codemirror_mode": {
                "name": "ipython",
                "version": 3
            },
            "file_extension": ".py",
            "mimetype": "text/x-python",
            "name": "python",
            "nbconvert_exporter": "python",
            "pygments_lexer": "ipython3",
            "version": "3.10.5"
        },
        "orig_nbformat": 4,
        "vscode": {
            "interpreter": {
                "hash": "37a27d0e5b469d6519fba8d674fca678a9e423d1818ec628dd8efc12286d08bf"
            }
        }
    },
    "nbformat": 4,
    "nbformat_minor": 2
}
