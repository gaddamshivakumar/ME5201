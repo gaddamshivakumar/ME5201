{
    "cells": [
        {
            "cell_type": "markdown",
            "metadata": {},
            "source": [
                "# Modified Euler Method | Heun's Method\n",
                "$$\n",
                "\\frac{dy}{dx} = f(x,y)\n",
                "$$"
            ]
        },
        {
            "cell_type": "code",
            "execution_count": 13,
            "metadata": {},
            "outputs": [],
            "source": [
                "import math\n",
                "import numpy as np\n",
                "import matplotlib.pyplot as plt\n",
                "import pandas as pd\n",
                "plt.rcParams['figure.figsize']=(10,10)\n",
                "plt.rcParams.update({'font.size': 15})"
            ]
        },
        {
            "cell_type": "markdown",
            "metadata": {},
            "source": [
                "### Problem: 1\n",
                "$$\n",
                "\\frac{dy}{dx}=\\frac{-x}{y}, \\quad x^2+y^2=25\n",
                "$$"
            ]
        },
        {
            "cell_type": "code",
            "execution_count": 14,
            "metadata": {},
            "outputs": [],
            "source": [
                "# x0, y0 = 0, 5\n",
                "# step = np.array([5/2, 5/4, 5/8, 5/16, 5/32])\n",
                "# xfinal = 5\n",
                "# def f(x, y): return -x/y\n",
                "# def f_exact(x): return math.sqrt(5**2-x**2)"
            ]
        },
        {
            "cell_type": "markdown",
            "metadata": {},
            "source": [
                "### Problem: 2\n",
                "$$\n",
                "\\frac{dy}{dx}=-y,\\quad y = e^{-x}\n",
                "$$"
            ]
        },
        {
            "cell_type": "code",
            "execution_count": 15,
            "metadata": {},
            "outputs": [],
            "source": [
                "# x0, y0 = 0, 1\n",
                "# step = np.array([5/32, 5/64, 5/128, 5/256, 5/512, 5/1024])\n",
                "# xfinal = 10\n",
                "# def f(x, y): return -y\n",
                "# def f_exact(x): return math.exp(-x)"
            ]
        },
        {
            "cell_type": "markdown",
            "metadata": {},
            "source": [
                "### Problem: 3\n",
                "$$\n",
                "\\frac{dy}{dx}=e^{-x}-2y,\\quad y = e^{-x} \\left(1-\\frac{e^{-x}}{4}\\right)\n",
                "$$"
            ]
        },
        {
            "cell_type": "code",
            "execution_count": 16,
            "metadata": {},
            "outputs": [],
            "source": [
                "x0, y0 = 0, 3/4\n",
                "step = np.array([0.2, 0.1, 0.05, 0.025])\n",
                "xfinal = 0.4\n",
                "def f(x, y): return math.exp(-x)-2*y\n",
                "def f_exact(x): return math.exp(-x)*(1-(math.exp(-x)/4))"
            ]
        },
        {
            "cell_type": "markdown",
            "metadata": {},
            "source": [
                "## Solution"
            ]
        },
        {
            "cell_type": "code",
            "execution_count": 17,
            "metadata": {},
            "outputs": [
                {
                    "name": "stdout",
                    "output_type": "stream",
                    "text": [
                        "@ step size 'h'= 0.200000\n",
                        "     x  y_predictor  y_corrector   y_exact     error\n",
                        "0  0.0      0.75000     0.750000  0.750000  0.000000\n",
                        "1  0.2      0.65000     0.651873  0.651151  0.000722\n",
                        "2  0.4      0.55487     0.559430  0.557988  0.001442\n",
                        " \n",
                        "@ step size 'h'= 0.100000\n",
                        "     x  y_predictor  y_corrector   y_exact     error\n",
                        "0  0.0     0.750000     0.750000  0.750000  0.000000\n",
                        "1  0.1     0.700000     0.700242  0.700155  0.000087\n",
                        "2  0.2     0.650677     0.651328  0.651151  0.000178\n",
                        "3  0.3     0.602936     0.603879  0.603615  0.000264\n",
                        "4  0.4     0.557185     0.558330  0.557988  0.000342\n",
                        " \n",
                        "@ step size 'h'= 0.050000\n",
                        "      x  y_predictor  y_corrector   y_exact     error\n",
                        "0  0.00     0.750000     0.750000  0.750000  0.000000\n",
                        "1  0.05     0.725000     0.725031  0.725020  0.000011\n",
                        "2  0.10     0.700089     0.700176  0.700155  0.000022\n",
                        "3  0.15     0.675401     0.675536  0.675503  0.000033\n",
                        "4  0.20     0.651018     0.651194  0.651151  0.000044\n",
                        "5  0.25     0.627012     0.627222  0.627168  0.000054\n",
                        "6  0.30     0.603440     0.603680  0.603615  0.000064\n",
                        "7  0.35     0.580353     0.580616  0.580542  0.000074\n",
                        "8  0.40     0.557789     0.558071  0.557988  0.000083\n",
                        " \n",
                        "@ step size 'h'= 0.025000\n",
                        "        x  y_predictor  y_corrector   y_exact     error\n",
                        "0   0.000     0.750000     0.750000  0.750000  0.000000\n",
                        "1   0.025     0.737500     0.737504  0.737503  0.000001\n",
                        "2   0.050     0.725011     0.725023  0.725020  0.000003\n",
                        "3   0.075     0.712552     0.712571  0.712566  0.000004\n",
                        "4   0.100     0.700136     0.700160  0.700155  0.000005\n",
                        "5   0.125     0.687773     0.687803  0.687797  0.000007\n",
                        "6   0.150     0.675476     0.675512  0.675503  0.000008\n",
                        "7   0.175     0.663254     0.663294  0.663285  0.000009\n",
                        "8   0.200     0.651116     0.651162  0.651151  0.000011\n",
                        "9   0.225     0.639072     0.639121  0.639109  0.000012\n",
                        "10  0.250     0.627128     0.627182  0.627168  0.000013\n",
                        "11  0.275     0.615292     0.615349  0.615335  0.000015\n",
                        "12  0.300     0.603571     0.603631  0.603615  0.000016\n",
                        "13  0.325     0.591970     0.592033  0.592016  0.000017\n",
                        "14  0.350     0.580495     0.580560  0.580542  0.000018\n",
                        "15  0.375     0.569149     0.569217  0.569198  0.000019\n",
                        "16  0.400     0.557938     0.558008  0.557988  0.000020\n",
                        " \n"
                    ]
                },
                {
                    "data": {
                        "image/png": "[encoded data removed]",
                        "text/plain": [
                            "<Figure size 720x720 with 1 Axes>"
                        ]
                    },
                    "metadata": {
                        "needs_background": "light"
                    },
                    "output_type": "display_data"
                }
            ],
            "source": [
                "error_p = np.array([])\n",
                "for h in step:\n",
                "    x = np.array([x0])\n",
                "    y_predict = np.array([y0])\n",
                "    y = np.array([y0])\n",
                "    y_exact = np.array([y0])\n",
                "    error = np.array([0])\n",
                "    xi = h\n",
                "    while round(xi,9) <= xfinal:\n",
                "        f0 = f(x[-1], y[-1])\n",
                "        y_predict = np.append(y_predict, y[-1]+f(x[-1], y[-1])*h)\n",
                "        f1 = f(xi, y_predict[-1])\n",
                "        y = np.append(y, y[-1]+(f0+f1)*h/2)\n",
                "        x = np.append(x, xi)\n",
                "        y_exact = np.append(y_exact, f_exact(xi))\n",
                "        error = np.append(error, abs(y[-1]-f_exact(xi)))\n",
                "        if round(xi,9) == xfinal:\n",
                "            error_p = np.append(error_p, abs(y[-1]-f_exact(xi)))\n",
                "        xi = xi+h\n",
                "    points = {'x': x, 'y_predictor': y_predict, 'y_corrector': y, 'y_exact': y_exact, 'error': error}\n",
                "    points = pd.DataFrame(points)\n",
                "    print(\"@ step size 'h'= %f\" % (h))\n",
                "    print(points)\n",
                "    print(' ')\n",
                "    plt.plot(x, y, '*-')\n",
                "x = np.linspace(x0, xfinal, 100)\n",
                "f_exact_v = np.vectorize(f_exact)\n",
                "y = f_exact_v(x)\n",
                "plt.plot(x, y, 'b', linewidth=3)\n",
                "plt.xlim(np.min(x), np.max(x))\n",
                "plt.ylim(np.min(y), np.max(y))\n",
                "plt.title('Solution')\n",
                "plt.xlabel('X-axis')\n",
                "plt.ylabel('Y-axis')\n",
                "ax = plt.gca()\n",
                "ax.set_aspect('equal')"
            ]
        },
        {
            "cell_type": "markdown",
            "metadata": {},
            "source": [
                "## Global Convergence (or) Global Error"
            ]
        },
        {
            "cell_type": "code",
            "execution_count": 18,
            "metadata": {},
            "outputs": [
                {
                    "name": "stdout",
                    "output_type": "stream",
                    "text": [
                        "    step   error_p     slope  GC Order\n",
                        "0  0.200  0.001442      None      None\n",
                        "1  0.100  0.000342  0.010997  2.075583\n",
                        "2  0.050  0.000083  0.005181  2.043097\n",
                        "3  0.025  0.000020  0.002503  2.022455\n"
                    ]
                },
                {
                    "data": {
                        "image/png": "[encoded data removed]",
                        "text/plain": [
                            "<Figure size 720x720 with 1 Axes>"
                        ]
                    },
                    "metadata": {
                        "needs_background": "light"
                    },
                    "output_type": "display_data"
                }
            ],
            "source": [
                "logstep = np.log(step)\n",
                "logerror = np.log(error_p)\n",
                "slope = np.array([None])\n",
                "logslope = np.array([None])\n",
                "# print(error_p)\n",
                "for i in range(len(step)-1):\n",
                "    slope = np.append(slope, ((error_p[i+1]-error_p[i])/(step[i+1]-step[i])))\n",
                "    logslope = np.append(logslope, ((logerror[i+1]-logerror[i])/(logstep[i+1]-logstep[i])))\n",
                "convergence = pd.DataFrame({'step': step, 'error_p': error_p, 'slope': slope, 'GC Order': logslope})\n",
                "print(convergence)\n",
                "plt.plot(step, error_p, '*-')\n",
                "plt.plot(np.log(step), np.log(error_p), '*-')\n",
                "plt.title('Global Convergence')\n",
                "plt.xlabel('log(h)')\n",
                "plt.ylabel('log(error)')\n",
                "ax = plt.gca()\n",
                "ax.set_aspect('equal')"
            ]
        },
        {
            "cell_type": "markdown",
            "metadata": {},
            "source": [
                "## Local Convergence (or) Truncation Error"
            ]
        }
    ],
    "metadata": {
        "kernelspec": {
            "display_name": "Python 3.10.5 64-bit",
            "language": "python",
            "name": "python3"
        },
        "language_info": {
            "codemirror_mode": {
                "name": "ipython",
                "version": 3
            },
            "file_extension": ".py",
            "mimetype": "text/x-python",
            "name": "python",
            "nbconvert_exporter": "python",
            "pygments_lexer": "ipython3",
            "version": "3.10.5"
        },
        "orig_nbformat": 4,
        "vscode": {
            "interpreter": {
                "hash": "37a27d0e5b469d6519fba8d674fca678a9e423d1818ec628dd8efc12286d08bf"
            }
        }
    },
    "nbformat": 4,
    "nbformat_minor": 2
}
